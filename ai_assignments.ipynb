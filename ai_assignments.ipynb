{
  "nbformat": 4,
  "nbformat_minor": 0,
  "metadata": {
    "colab": {
      "provenance": [],
      "authorship_tag": "ABX9TyN7OONzs9mt6yTdv8Kj96ks",
      "include_colab_link": true
    },
    "kernelspec": {
      "name": "python3",
      "display_name": "Python 3"
    },
    "language_info": {
      "name": "python"
    }
  },
  "cells": [
    {
      "cell_type": "markdown",
      "metadata": {
        "id": "view-in-github",
        "colab_type": "text"
      },
      "source": [
        "<a href=\"https://colab.research.google.com/github/mansii2022/AIMCASEM2-202301034-/blob/main/ai_assignments.ipynb\" target=\"_parent\"><img src=\"https://colab.research.google.com/assets/colab-badge.svg\" alt=\"Open In Colab\"/></a>"
      ]
    },
    {
      "source": [
        "def bfs(graph, start_node, goal_node):\n",
        "  visited = set()\n",
        "  queue = [start_node]\n",
        "  traversal_order = []\n",
        "  while queue:\n",
        "    current_node = queue.pop(0)\n",
        "    if current_node not in visited:\n",
        "      visited.add(current_node)\n",
        "      traversal_order.append(current_node)\n",
        "      if current_node == goal_node:\n",
        "        return traversal_order\n",
        "      for neighbor in graph[current_node]:\n",
        "        if neighbor not in visited:\n",
        "          queue.append(neighbor)\n",
        "  return None\n",
        "\n",
        "graph = {\n",
        "    'A': ['B', 'C'],\n",
        "    'B': ['E', 'D'],\n",
        "    'C': ['D','G'],\n",
        "    'D': ['F'],\n",
        "    'E': [],\n",
        "    'F': ['F','H','G'],\n",
        "    'G': ['C','F'],\n",
        "    'H':[]\n",
        "}\n",
        "start_node = 'A'\n",
        "goal_node = 'G'\n",
        "traversal = bfs(graph, start_node, goal_node)\n",
        "if traversal:\n",
        "    print(\"Traversal order:\", traversal)\n",
        "    print(\"Goal node G reached!\")\n",
        "else:\n",
        "    print(\"Goal node G not found from\", start_node)"
      ],
      "cell_type": "code",
      "metadata": {
        "colab": {
          "base_uri": "https://localhost:8080/"
        },
        "id": "dafS3zp99-Hi",
        "outputId": "58998887-6138-4d20-d734-ce9047ae4362"
      },
      "execution_count": null,
      "outputs": [
        {
          "output_type": "stream",
          "name": "stdout",
          "text": [
            "Traversal order: ['A', 'B', 'C', 'E', 'D', 'G']\n",
            "Goal node G reached!\n"
          ]
        }
      ]
    },
    {
      "cell_type": "code",
      "source": [
        "def dfs(graph, start_node, goal_node):\n",
        "\n",
        "  visited = set()\n",
        "  traversal_order = []\n",
        "\n",
        "  def dfs_helper(node):\n",
        "    visited.add(node)\n",
        "    traversal_order.append(node)\n",
        "    print(node, end=\" -> \")\n",
        "\n",
        "    if node == goal_node:\n",
        "      return True\n",
        "\n",
        "    for neighbor in graph[node]:\n",
        "      if neighbor not in visited:\n",
        "        if dfs_helper(neighbor):\n",
        "          return True\n",
        "\n",
        "    return False\n",
        "\n",
        "  if dfs_helper(start_node):\n",
        "    return traversal_order\n",
        "  else:\n",
        "    return None\n",
        "graph = {\n",
        "  'A': ['B', 'C'],\n",
        "  'B': ['E', 'D'],\n",
        "  'C': ['D', 'G'],\n",
        "  'D': ['F'],\n",
        "  'E': [],\n",
        "  'F': ['F', 'H', 'G'],\n",
        "  'G': ['C', 'F'],\n",
        "  'H': []\n",
        "}\n",
        "\n",
        "traversal_order = dfs(graph, 'A', 'G')\n",
        "\n",
        "if traversal_order:\n",
        "  print(\"\\nTraversal order to reach goal node 'G':\", traversal_order)\n",
        "else:\n",
        "  print(\"Goal node 'G' not found in the graph.\")\n"
      ],
      "metadata": {
        "colab": {
          "base_uri": "https://localhost:8080/"
        },
        "id": "ZQtzZKHA_oX5",
        "outputId": "3377e9ae-5307-46ff-af41-c5ba090bd662"
      },
      "execution_count": null,
      "outputs": [
        {
          "output_type": "stream",
          "name": "stdout",
          "text": [
            "A -> B -> E -> D -> F -> H -> G -> \n",
            "Traversal order to reach goal node 'G': ['A', 'B', 'E', 'D', 'F', 'H', 'G']\n"
          ]
        }
      ]
    },
    {
      "cell_type": "code",
      "source": [
        "#simplehillclimbing\n",
        "import random\n",
        "SuccList = {\n",
        "    'A': [['B', 10], ['J', 8], ['F', 7]],\n",
        "    'B': [['D', 4], ['C', 2]],\n",
        "    'C': [['H', 0]],\n",
        "    'J': [['K', 0]],\n",
        "    'F': [['E', 5], ['G', 3]],\n",
        "    'E': [['I', 6]],\n",
        "    'I': [['K', 0]]\n",
        "}\n",
        "start = 'A'\n",
        "goal = ['H', 'K']\n",
        "Hvalue = 10\n",
        "closed = []\n",
        "open = []\n",
        "\n",
        "def Hill_Climbing(start, Hvalue):\n",
        "    open.append([start, Hvalue])\n",
        "    while (1):\n",
        "        print('Open list:', open)\n",
        "        print('Closed list:', closed)\n",
        "        current = open.pop(0)\n",
        "        print('Current node:', current[0])\n",
        "        if current[0] in goal:\n",
        "            print('Goal reached at node', current[0])\n",
        "            break\n",
        "        closed.append(current)\n",
        "        children = SuccList[current[0]]\n",
        "        for child, child_Hvalue in children:\n",
        "            if child_Hvalue < current[1]:\n",
        "                open.append([child, child_Hvalue])\n",
        "                print('Chosen child:', child, 'with Hvalue:', child_Hvalue)\n",
        "                break\n",
        "        else:\n",
        "            print('No better child found. Stuck at local maximum.')\n",
        "            break\n",
        "Hill_Climbing(start, Hvalue)\n"
      ],
      "metadata": {
        "colab": {
          "base_uri": "https://localhost:8080/"
        },
        "id": "x-4GJZuVFwxC",
        "outputId": "c180a5c7-49bb-4d79-d547-2eaa1dc51f76"
      },
      "execution_count": null,
      "outputs": [
        {
          "output_type": "stream",
          "name": "stdout",
          "text": [
            "Open list: [['A', 10]]\n",
            "Closed list: []\n",
            "Current node: A\n",
            "Chosen child: J with Hvalue: 8\n",
            "Open list: [['J', 8]]\n",
            "Closed list: [['A', 10]]\n",
            "Current node: J\n",
            "Chosen child: K with Hvalue: 0\n",
            "Open list: [['K', 0]]\n",
            "Closed list: [['A', 10], ['J', 8]]\n",
            "Current node: K\n",
            "Goal reached at node K\n"
          ]
        }
      ]
    },
    {
      "cell_type": "code",
      "source": [
        "#steepesthillclimbing\n",
        "import random\n",
        "SuccList = {\n",
        "    'a': [['b', 10], ['j', 8], ['f', 7]],\n",
        "    'b': [['d', 4], ['c', 2]],\n",
        "    'c': [['h', 0]],\n",
        "    'j': [['k', 0]],\n",
        "    'f': [['e', 5], ['g', 3]],\n",
        "    'e': [['i', 6]],\n",
        "    'i': [['k', 0]]\n",
        "}\n",
        "\n",
        "start = 'a'\n",
        "goal = ['h', 'k']\n",
        "Hvalue = 10\n",
        "closed = []\n",
        "open = []\n",
        "\n",
        "def Steepest_Hill_Climbing(start, Hvalue):\n",
        "    open.append([start, Hvalue])\n",
        "    while True:\n",
        "        print('Open list:', open)\n",
        "        print('Closed list:', closed)\n",
        "        current = max(open, key=lambda x: x[1])\n",
        "        print('Current node:', current[0])\n",
        "        if current[0] in goal:\n",
        "            print('Goal reached at node', current[0])\n",
        "            break\n",
        "        open.remove(current)\n",
        "        closed.append(current)\n",
        "        children = SuccList[current[0]]\n",
        "        best_child = max(children, key=lambda x: x[1])\n",
        "        if best_child[1] < current[1]:\n",
        "            open.append([best_child[0], best_child[1]])\n",
        "            print('Chosen child:', best_child[0], 'with Hvalue:', best_child[1])\n",
        "        else:\n",
        "            print('No better child found. Stuck at local maximum.')\n",
        "            break\n",
        "\n",
        "Steepest_Hill_Climbing(start, Hvalue)\n"
      ],
      "metadata": {
        "colab": {
          "base_uri": "https://localhost:8080/"
        },
        "id": "vPT-gRUyGteO",
        "outputId": "09f03612-de34-4a92-cafd-9d700b23c6ff"
      },
      "execution_count": 1,
      "outputs": [
        {
          "output_type": "stream",
          "name": "stdout",
          "text": [
            "Open list: [['a', 10]]\n",
            "Closed list: []\n",
            "Current node: a\n",
            "No better child found. Stuck at local maximum.\n"
          ]
        }
      ]
    }
  ]
}