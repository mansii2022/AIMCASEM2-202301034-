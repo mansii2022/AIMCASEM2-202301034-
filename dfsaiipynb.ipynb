{
  "nbformat": 4,
  "nbformat_minor": 0,
  "metadata": {
    "colab": {
      "provenance": [],
      "authorship_tag": "ABX9TyMWjwwlVy7j5F4ZGfwZWs2P",
      "include_colab_link": true
    },
    "kernelspec": {
      "name": "python3",
      "display_name": "Python 3"
    },
    "language_info": {
      "name": "python"
    }
  },
  "cells": [
    {
      "cell_type": "markdown",
      "metadata": {
        "id": "view-in-github",
        "colab_type": "text"
      },
      "source": [
        "<a href=\"https://colab.research.google.com/github/mansii2022/AIMCASEM2-202301034-/blob/main/dfsaiipynb.ipynb\" target=\"_parent\"><img src=\"https://colab.research.google.com/assets/colab-badge.svg\" alt=\"Open In Colab\"/></a>"
      ]
    },
    {
      "cell_type": "code",
      "source": [
        "def dfs(graph, start_node, goal_node, visited=None, traversal_order=None):\n",
        "    if visited is None:\n",
        "        visited = set()\n",
        "    if traversal_order is None:\n",
        "        traversal_order = []\n",
        "\n",
        "    visited.add(start_node)\n",
        "    traversal_order.append(start_node)\n",
        "\n",
        "    if start_node == goal_node:\n",
        "        return traversal_order\n",
        "\n",
        "    for neighbor in graph.get(start_node, []):\n",
        "        if neighbor not in visited:\n",
        "            result = dfs(graph, neighbor, goal_node, visited, traversal_order)\n",
        "            if result:\n",
        "                return result\n",
        "\n",
        "    return None\n",
        "\n",
        "# Given graph\n",
        "graph = {\n",
        "    'A': ['B', 'D'],\n",
        "    'B': ['C', 'F'],\n",
        "    'C': ['E', 'G', 'H'],\n",
        "    'G': ['E', 'H'],\n",
        "    'E': ['B', 'F'],\n",
        "    'F': ['A'],\n",
        "    'D': ['F'],\n",
        "    'H': ['A']\n",
        "}\n",
        "\n",
        "# Find traversal order from 'A' to 'G'\n",
        "traversal_order = dfs(graph, 'A', 'G')\n",
        "\n",
        "if traversal_order:\n",
        "    print(\"Traversal order to reach goal node 'G':\", traversal_order)\n",
        "else:\n",
        "    print(\"Goal node 'G' not found in the graph.\")\n"
      ],
      "metadata": {
        "colab": {
          "base_uri": "https://localhost:8080/"
        },
        "id": "IFDC7tMzrZ6O",
        "outputId": "ea4bdb8f-db30-4cf4-ec4c-5fb1887b6678"
      },
      "execution_count": 13,
      "outputs": [
        {
          "output_type": "stream",
          "name": "stdout",
          "text": [
            "Traversal order to reach goal node 'G': ['A', 'B', 'C', 'E', 'F', 'G']\n"
          ]
        }
      ]
    }
  ]
}